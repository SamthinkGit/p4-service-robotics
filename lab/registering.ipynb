{
 "cells": [
  {
   "cell_type": "code",
   "execution_count": 66,
   "metadata": {},
   "outputs": [
    {
     "name": "stdout",
     "output_type": "stream",
     "text": [
      "row=120.0, col=220.0\n"
     ]
    }
   ],
   "source": [
    "import numpy as np\n",
    "\n",
    "alpha = np.deg2rad(90)\n",
    "scale = 2\n",
    "\n",
    "matrix = np.array([\n",
    "    [np.cos(alpha), -np.sin(alpha), 220],\n",
    "    [np.sin(alpha), np.cos(alpha), 120],\n",
    "    [0, 0, 1]\n",
    "])\n",
    "\n",
    "x, y = 0, 0\n",
    "vec = np.array([-x*scale,y*scale,1]).transpose()\n",
    "\n",
    "result = matrix@vec\n",
    "col, row = result[0], result[1]\n",
    "\n",
    "print(f\"{row=}, {col=}\")"
   ]
  }
 ],
 "metadata": {
  "kernelspec": {
   "display_name": "Python 3",
   "language": "python",
   "name": "python3"
  },
  "language_info": {
   "codemirror_mode": {
    "name": "ipython",
    "version": 3
   },
   "file_extension": ".py",
   "mimetype": "text/x-python",
   "name": "python",
   "nbconvert_exporter": "python",
   "pygments_lexer": "ipython3",
   "version": "3.10.12"
  }
 },
 "nbformat": 4,
 "nbformat_minor": 2
}
